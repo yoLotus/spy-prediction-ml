{
 "cells": [
  {
   "cell_type": "markdown",
   "metadata": {},
   "source": [
    "# SPY prediction\n",
    "\n",
    "I followed this Twitter thread => https://twitter.com/DrDanobi/status/1729469353282744515"
   ]
  },
  {
   "cell_type": "code",
   "execution_count": 3,
   "metadata": {},
   "outputs": [
    {
     "name": "stdout",
     "output_type": "stream",
     "text": [
      "[*********************100%%**********************]  1 of 1 completed\n"
     ]
    }
   ],
   "source": [
    "import yfinance as yf\n",
    "\n",
    "df = yf.download('SPY').reset_index()"
   ]
  },
  {
   "cell_type": "markdown",
   "metadata": {},
   "source": [
    "Derivating the features"
   ]
  },
  {
   "cell_type": "code",
   "execution_count": 8,
   "metadata": {},
   "outputs": [
    {
     "name": "stdout",
     "output_type": "stream",
     "text": [
      "           Date        Open        High         Low       Close   Adj Close  \\\n",
      "0    1993-01-29   43.968750   43.968750   43.750000   43.937500   24.941387   \n",
      "1    1993-02-01   43.968750   44.250000   43.968750   44.250000   25.118792   \n",
      "2    1993-02-02   44.218750   44.375000   44.125000   44.343750   25.172005   \n",
      "3    1993-02-03   44.406250   44.843750   44.375000   44.812500   25.438087   \n",
      "4    1993-02-04   44.968750   45.093750   44.468750   45.000000   25.544544   \n",
      "...         ...         ...         ...         ...         ...         ...   \n",
      "7762 2023-11-27  454.649994  455.489990  454.079987  454.480011  454.480011   \n",
      "7763 2023-11-28  454.079987  456.269989  453.500000  454.929993  454.929993   \n",
      "7764 2023-11-29  457.149994  458.320007  454.200012  454.609985  454.609985   \n",
      "7765 2023-11-30  455.480011  456.760010  453.339996  456.399994  456.399994   \n",
      "7766 2023-12-01  455.769989  459.649994  455.160004  459.100006  459.100006   \n",
      "\n",
      "        Volume  feat_fist_from_ma_10  feat_fist_from_ma_20  \\\n",
      "0      1003200                   NaN                   NaN   \n",
      "1       480500                   NaN                   NaN   \n",
      "2       201300                   NaN                   NaN   \n",
      "3       529400                   NaN                   NaN   \n",
      "4       531500                   NaN                   NaN   \n",
      "...        ...                   ...                   ...   \n",
      "7762  50506000              0.007281              0.030781   \n",
      "7763  62115000              0.004995              0.027219   \n",
      "7764  63146000              0.002985              0.022294   \n",
      "7765  79752700              0.005444              0.022440   \n",
      "7766  89097900              0.009419              0.025234   \n",
      "\n",
      "      feat_fist_from_ma_30  feat_fist_from_ma_50  feat_fist_from_ma_100  \n",
      "0                      NaN                   NaN                    NaN  \n",
      "1                      NaN                   NaN                    NaN  \n",
      "2                      NaN                   NaN                    NaN  \n",
      "3                      NaN                   NaN                    NaN  \n",
      "4                      NaN                   NaN                    NaN  \n",
      "...                    ...                   ...                    ...  \n",
      "7762              0.044547              0.048359               0.031899  \n",
      "7763              0.044070              0.048850               0.032536  \n",
      "7764              0.041854              0.047537               0.031460  \n",
      "7765              0.043868              0.050802               0.035194  \n",
      "7766              0.047435              0.055671               0.041009  \n",
      "\n",
      "[7767 rows x 12 columns]\n"
     ]
    }
   ],
   "source": [
    "# distance from the moving average\n",
    "for m in [10, 20, 30, 50, 100]:\n",
    "  df[f'feat_fist_from_ma_{m}'] = df['Close']/df['Close'].rolling(m).mean() - 1\n",
    "\n",
    "print(df)\n"
   ]
  }
 ],
 "metadata": {
  "kernelspec": {
   "display_name": ".venv",
   "language": "python",
   "name": "python3"
  },
  "language_info": {
   "codemirror_mode": {
    "name": "ipython",
    "version": 3
   },
   "file_extension": ".py",
   "mimetype": "text/x-python",
   "name": "python",
   "nbconvert_exporter": "python",
   "pygments_lexer": "ipython3",
   "version": "3.11.6"
  }
 },
 "nbformat": 4,
 "nbformat_minor": 2
}
